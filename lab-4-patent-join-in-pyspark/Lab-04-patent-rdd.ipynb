{
 "cells": [
  {
   "cell_type": "markdown",
   "metadata": {},
   "source": [
    "# CSCI 4253 / 5253 - Lab #4 - Patent Problem with Spark RDD - SOLUTION\n",
    "<div>\n",
    " <h2> CSCI 4283 / 5253 \n",
    "  <IMG SRC=\"https://www.colorado.edu/cs/profiles/express/themes/cuspirit/logo.png\" WIDTH=50 ALIGN=\"right\"/> </h2>\n",
    "</div>"
   ]
  },
  {
   "cell_type": "markdown",
   "metadata": {},
   "source": [
    "This [Spark cheatsheet](https://s3.amazonaws.com/assets.datacamp.com/blog_assets/PySpark_SQL_Cheat_Sheet_Python.pdf) is useful"
   ]
  },
  {
   "cell_type": "code",
   "execution_count": 1,
   "metadata": {},
   "outputs": [],
   "source": [
    "from pyspark import SparkContext, SparkConf\n",
    "import numpy as np\n",
    "import operator"
   ]
  },
  {
   "cell_type": "code",
   "execution_count": 2,
   "metadata": {},
   "outputs": [],
   "source": [
    "conf=SparkConf().setAppName(\"Lab4-rdd\").setMaster(\"local[*]\")\n",
    "sc = SparkContext(conf=conf)"
   ]
  },
  {
   "cell_type": "markdown",
   "metadata": {},
   "source": [
    "Using PySpark and RDD's on the https://coding.csel.io machines is slow -- most of the code is executed in Python and this is much less efficient than the java-based code using the PySpark dataframes. Be patient and trying using `.cache()` to cache the output of joins. You may want to start with a reduced set of data before running the full task. You can use the `sample()` method to extract just a sample of the data or use "
   ]
  },
  {
   "cell_type": "markdown",
   "metadata": {},
   "source": [
    "These two RDD's are called \"rawCitations\" and \"rawPatents\" because you probably want to process them futher (e.g. convert them to integer types, etc). \n",
    "\n",
    "The `textFile` function returns data in strings. This should work fine for this lab.\n",
    "\n",
    "Other methods you use might return data in type `Byte`. If you haven't used Python `Byte` types before, google it. You can convert a value of `x` type byte into e.g. a UTF8 string using `x.decode('uft-8')`. Alternatively, you can use the `open` method of the gzip library to read in all the lines as UTF-8 strings like this:\n",
    "```\n",
    "import gzip\n",
    "with gzip.open('cite75_99.txt.gz', 'rt',encoding='utf-8') as f:\n",
    "    rddCitations = sc.parallelize( f.readlines() )\n",
    "```\n",
    "This is less efficient than using `textFile` because `textFile` would use the underlying HDFS or other file system to read the file across all the worker nodes while the using `gzip.open()...readlines()` will read all the data in the frontend and then distribute it to all the worker nodes."
   ]
  },
  {
   "cell_type": "code",
   "execution_count": 3,
   "metadata": {},
   "outputs": [],
   "source": [
    "rddCitations = sc.textFile(\"cite75_99.txt.gz\")\n",
    "rddPatents = sc.textFile(\"apat63_99.txt.gz\")"
   ]
  },
  {
   "cell_type": "markdown",
   "metadata": {},
   "source": [
    "The data looks like the following."
   ]
  },
  {
   "cell_type": "code",
   "execution_count": 4,
   "metadata": {},
   "outputs": [
    {
     "data": {
      "text/plain": [
       "['\"CITING\",\"CITED\"',\n",
       " '3858241,956203',\n",
       " '3858241,1324234',\n",
       " '3858241,3398406',\n",
       " '3858241,3557384']"
      ]
     },
     "execution_count": 4,
     "metadata": {},
     "output_type": "execute_result"
    }
   ],
   "source": [
    "rddCitations.take(5)"
   ]
  },
  {
   "cell_type": "code",
   "execution_count": 5,
   "metadata": {},
   "outputs": [
    {
     "data": {
      "text/plain": [
       "['\"PATENT\",\"GYEAR\",\"GDATE\",\"APPYEAR\",\"COUNTRY\",\"POSTATE\",\"ASSIGNEE\",\"ASSCODE\",\"CLAIMS\",\"NCLASS\",\"CAT\",\"SUBCAT\",\"CMADE\",\"CRECEIVE\",\"RATIOCIT\",\"GENERAL\",\"ORIGINAL\",\"FWDAPLAG\",\"BCKGTLAG\",\"SELFCTUB\",\"SELFCTLB\",\"SECDUPBD\",\"SECDLWBD\"',\n",
       " '3070801,1963,1096,,\"BE\",\"\",,1,,269,6,69,,1,,0,,,,,,,',\n",
       " '3070802,1963,1096,,\"US\",\"TX\",,1,,2,6,63,,0,,,,,,,,,',\n",
       " '3070803,1963,1096,,\"US\",\"IL\",,1,,2,6,63,,9,,0.3704,,,,,,,',\n",
       " '3070804,1963,1096,,\"US\",\"OH\",,1,,2,6,63,,3,,0.6667,,,,,,,']"
      ]
     },
     "execution_count": 5,
     "metadata": {},
     "output_type": "execute_result"
    }
   ],
   "source": [
    "rddPatents.take(5)"
   ]
  },
  {
   "cell_type": "markdown",
   "metadata": {},
   "source": [
    "### SOLUTION PROCESS"
   ]
  },
  {
   "cell_type": "markdown",
   "metadata": {},
   "source": [
    "In other words, they are a single string with multiple CSV's. You will need to convert these to (K,V) pairs, probably convert the keys to `int` and so on. You'll need to `filter` out the header string as well since there's no easy way to extract all the lines except the first."
   ]
  },
  {
   "cell_type": "markdown",
   "metadata": {},
   "source": [
    "Remove header and convert string into key-value pairs for patents rdd"
   ]
  },
  {
   "cell_type": "code",
   "execution_count": 7,
   "metadata": {},
   "outputs": [
    {
     "data": {
      "text/plain": [
       "[('3070801',\n",
       "  ['1963',\n",
       "   '1096',\n",
       "   '',\n",
       "   '\"BE\"',\n",
       "   '\"\"',\n",
       "   '',\n",
       "   '1',\n",
       "   '',\n",
       "   '269',\n",
       "   '6',\n",
       "   '69',\n",
       "   '',\n",
       "   '1',\n",
       "   '',\n",
       "   '0',\n",
       "   '',\n",
       "   '',\n",
       "   '',\n",
       "   '',\n",
       "   '',\n",
       "   '',\n",
       "   ''])]"
      ]
     },
     "execution_count": 7,
     "metadata": {},
     "output_type": "execute_result"
    }
   ],
   "source": [
    "patents_header = rddPatents.first()\n",
    "key_value_patents = rddPatents.filter(lambda row: row != patents_header) \\\n",
    "        .map(lambda row: (row.split(\",\")[0], row.split(\",\")[1:]))\n",
    "key_value_patents.take(1)"
   ]
  },
  {
   "cell_type": "markdown",
   "metadata": {},
   "source": [
    "Remove header and convert string into key-value pairs for citations rdd"
   ]
  },
  {
   "cell_type": "code",
   "execution_count": 8,
   "metadata": {},
   "outputs": [
    {
     "data": {
      "text/plain": [
       "[('956203', ['3858241', '956203'])]"
      ]
     },
     "execution_count": 8,
     "metadata": {},
     "output_type": "execute_result"
    }
   ],
   "source": [
    "citations_header = rddCitations.first()\n",
    "key_value_citations = rddCitations.filter(lambda row: row != citations_header) \\\n",
    "        .map(lambda row: (row.split(\",\")[1], row.split(\",\")))\n",
    "key_value_citations.take(1)"
   ]
  },
  {
   "cell_type": "markdown",
   "metadata": {},
   "source": [
    "Get POSTATE info for each patent as a new rdd"
   ]
  },
  {
   "cell_type": "code",
   "execution_count": 9,
   "metadata": {},
   "outputs": [
    {
     "data": {
      "text/plain": [
       "[('3070801', '\"\"'),\n",
       " ('3070802', '\"TX\"'),\n",
       " ('3070803', '\"IL\"'),\n",
       " ('3070804', '\"OH\"'),\n",
       " ('3070805', '\"CA\"')]"
      ]
     },
     "execution_count": 9,
     "metadata": {},
     "output_type": "execute_result"
    }
   ],
   "source": [
    "state_rdd = key_value_patents.map(lambda row: (row[0], row[1][4]))\n",
    "state_rdd.take(5)"
   ]
  },
  {
   "cell_type": "markdown",
   "metadata": {},
   "source": [
    "Get POSTATE for CITIED patent"
   ]
  },
  {
   "cell_type": "code",
   "execution_count": 10,
   "metadata": {},
   "outputs": [
    {
     "data": {
      "text/plain": [
       "[('3770051', (['3860386', '3770051'], '\"\"')),\n",
       " ('3770051', (['3879599', '3770051'], '\"\"')),\n",
       " ('3770051', (['3902046', '3770051'], '\"\"')),\n",
       " ('3770051', (['4001548', '3770051'], '\"\"')),\n",
       " ('3770051', (['4029939', '3770051'], '\"\"'))]"
      ]
     },
     "execution_count": 10,
     "metadata": {},
     "output_type": "execute_result"
    }
   ],
   "source": [
    "cited_key_join = key_value_citations.join(state_rdd)\n",
    "cited_key_join.take(5)"
   ]
  },
  {
   "cell_type": "markdown",
   "metadata": {},
   "source": [
    "Update key to CITING from CITED "
   ]
  },
  {
   "cell_type": "code",
   "execution_count": 11,
   "metadata": {},
   "outputs": [
    {
     "data": {
      "text/plain": [
       "[('3858577', (['3858577', '3471215'], '\"MA\"')),\n",
       " ('3963323', (['3963323', '3471215'], '\"MA\"')),\n",
       " ('4120293', (['4120293', '3471215'], '\"MA\"')),\n",
       " ('4161944', (['4161944', '3471215'], '\"MA\"')),\n",
       " ('4266548', (['4266548', '3471215'], '\"MA\"'))]"
      ]
     },
     "execution_count": 11,
     "metadata": {},
     "output_type": "execute_result"
    }
   ],
   "source": [
    "key_citing_rdd = cited_key_join.map(lambda row: (row[1][0][0], row[1]))\n",
    "key_citing_rdd.take(5)"
   ]
  },
  {
   "cell_type": "markdown",
   "metadata": {},
   "source": [
    "Get POSTATE for CITING patent"
   ]
  },
  {
   "cell_type": "code",
   "execution_count": 12,
   "metadata": {},
   "outputs": [
    {
     "data": {
      "text/plain": [
       "[('5809756', ((['5809756', '3485314'], '\"GA\"'), '\"WI\"')),\n",
       " ('5809756', ((['5809756', '4920734'], '\"NY\"'), '\"WI\"')),\n",
       " ('5809756', ((['5809756', '5507138'], '\"MD\"'), '\"WI\"')),\n",
       " ('5809756', ((['5809756', '4878339'], '\"MN\"'), '\"WI\"')),\n",
       " ('5809756', ((['5809756', '4879867'], '\"NY\"'), '\"WI\"'))]"
      ]
     },
     "execution_count": 12,
     "metadata": {},
     "output_type": "execute_result"
    }
   ],
   "source": [
    "rdd_with_states = key_citing_rdd.join(state_rdd)\n",
    "rdd_with_states.take(5)"
   ]
  },
  {
   "cell_type": "markdown",
   "metadata": {},
   "source": [
    "Check if POSTATE for CITING andd CITED are same. If so, CITING patent get trivial count = 1"
   ]
  },
  {
   "cell_type": "code",
   "execution_count": 13,
   "metadata": {},
   "outputs": [
    {
     "data": {
      "text/plain": [
       "[('4344287', 1),\n",
       " ('5952671', 1),\n",
       " ('5952671', 1),\n",
       " ('5952671', 1),\n",
       " ('3956832', 1)]"
      ]
     },
     "execution_count": 13,
     "metadata": {},
     "output_type": "execute_result"
    }
   ],
   "source": [
    "same_state_rdd = rdd_with_states.filter(lambda row: row[1][1] == row[1][0][1] and row[1][1]!= '\"\"' and row[1][1]!= 'null') \\\n",
    "             .map(lambda row: (row[0], 1))\n",
    "same_state_rdd.take(5)"
   ]
  },
  {
   "cell_type": "markdown",
   "metadata": {},
   "source": [
    "Calculate the total count for each patent and sort in descending order of count "
   ]
  },
  {
   "cell_type": "code",
   "execution_count": 15,
   "metadata": {},
   "outputs": [
    {
     "data": {
      "text/plain": [
       "[('5959466', 125),\n",
       " ('5983822', 103),\n",
       " ('6008204', 100),\n",
       " ('5952345', 98),\n",
       " ('5998655', 96)]"
      ]
     },
     "execution_count": 15,
     "metadata": {},
     "output_type": "execute_result"
    }
   ],
   "source": [
    "count_rdd = same_state_rdd.reduceByKey(lambda x, y: x + y)\n",
    "count_rdd = count_rdd.sortBy(lambda x: x[1], ascending=False)\n",
    "count_rdd.take(5)"
   ]
  },
  {
   "cell_type": "markdown",
   "metadata": {},
   "source": [
    "#### FINAL RESULT"
   ]
  },
  {
   "cell_type": "markdown",
   "metadata": {},
   "source": [
    "Append SAME_STATE count to patents data and compute results in descending order of SAME_STATE count "
   ]
  },
  {
   "cell_type": "code",
   "execution_count": 16,
   "metadata": {},
   "outputs": [],
   "source": [
    "result = key_value_patents.join(count_rdd)\n",
    "result = result.sortBy(lambda x: x[1][1], ascending=False)"
   ]
  },
  {
   "cell_type": "markdown",
   "metadata": {},
   "source": [
    "Display the top 10 results"
   ]
  },
  {
   "cell_type": "code",
   "execution_count": 17,
   "metadata": {
    "scrolled": true,
    "tags": []
   },
   "outputs": [
    {
     "data": {
      "text/plain": [
       "[('5959466',\n",
       "  (['1999',\n",
       "    '14515',\n",
       "    '1997',\n",
       "    '\"US\"',\n",
       "    '\"CA\"',\n",
       "    '5310',\n",
       "    '2',\n",
       "    '',\n",
       "    '326',\n",
       "    '4',\n",
       "    '46',\n",
       "    '159',\n",
       "    '0',\n",
       "    '1',\n",
       "    '',\n",
       "    '0.6186',\n",
       "    '',\n",
       "    '4.8868',\n",
       "    '0.0455',\n",
       "    '0.044',\n",
       "    '',\n",
       "    ''],\n",
       "   125)),\n",
       " ('5983822',\n",
       "  (['1999',\n",
       "    '14564',\n",
       "    '1998',\n",
       "    '\"US\"',\n",
       "    '\"TX\"',\n",
       "    '569900',\n",
       "    '2',\n",
       "    '',\n",
       "    '114',\n",
       "    '5',\n",
       "    '55',\n",
       "    '200',\n",
       "    '0',\n",
       "    '0.995',\n",
       "    '',\n",
       "    '0.7201',\n",
       "    '',\n",
       "    '12.45',\n",
       "    '0',\n",
       "    '0',\n",
       "    '',\n",
       "    ''],\n",
       "   103)),\n",
       " ('6008204',\n",
       "  (['1999',\n",
       "    '14606',\n",
       "    '1998',\n",
       "    '\"US\"',\n",
       "    '\"CA\"',\n",
       "    '749584',\n",
       "    '2',\n",
       "    '',\n",
       "    '514',\n",
       "    '3',\n",
       "    '31',\n",
       "    '121',\n",
       "    '0',\n",
       "    '1',\n",
       "    '',\n",
       "    '0.7415',\n",
       "    '',\n",
       "    '5',\n",
       "    '0.0085',\n",
       "    '0.0083',\n",
       "    '',\n",
       "    ''],\n",
       "   100)),\n",
       " ('5952345',\n",
       "  (['1999',\n",
       "    '14501',\n",
       "    '1997',\n",
       "    '\"US\"',\n",
       "    '\"CA\"',\n",
       "    '749584',\n",
       "    '2',\n",
       "    '',\n",
       "    '514',\n",
       "    '3',\n",
       "    '31',\n",
       "    '118',\n",
       "    '0',\n",
       "    '1',\n",
       "    '',\n",
       "    '0.7442',\n",
       "    '',\n",
       "    '5.1102',\n",
       "    '0',\n",
       "    '0',\n",
       "    '',\n",
       "    ''],\n",
       "   98)),\n",
       " ('5958954',\n",
       "  (['1999',\n",
       "    '14515',\n",
       "    '1997',\n",
       "    '\"US\"',\n",
       "    '\"CA\"',\n",
       "    '749584',\n",
       "    '2',\n",
       "    '',\n",
       "    '514',\n",
       "    '3',\n",
       "    '31',\n",
       "    '116',\n",
       "    '0',\n",
       "    '1',\n",
       "    '',\n",
       "    '0.7397',\n",
       "    '',\n",
       "    '5.181',\n",
       "    '0',\n",
       "    '0',\n",
       "    '',\n",
       "    ''],\n",
       "   96)),\n",
       " ('5998655',\n",
       "  (['1999',\n",
       "    '14585',\n",
       "    '1998',\n",
       "    '\"US\"',\n",
       "    '\"CA\"',\n",
       "    '',\n",
       "    '1',\n",
       "    '',\n",
       "    '560',\n",
       "    '1',\n",
       "    '14',\n",
       "    '114',\n",
       "    '0',\n",
       "    '1',\n",
       "    '',\n",
       "    '0.7387',\n",
       "    '',\n",
       "    '5.1667',\n",
       "    '',\n",
       "    '',\n",
       "    '',\n",
       "    ''],\n",
       "   96)),\n",
       " ('5936426',\n",
       "  (['1999',\n",
       "    '14466',\n",
       "    '1997',\n",
       "    '\"US\"',\n",
       "    '\"CA\"',\n",
       "    '5310',\n",
       "    '2',\n",
       "    '',\n",
       "    '326',\n",
       "    '4',\n",
       "    '46',\n",
       "    '178',\n",
       "    '0',\n",
       "    '1',\n",
       "    '',\n",
       "    '0.58',\n",
       "    '',\n",
       "    '11.2303',\n",
       "    '0.0765',\n",
       "    '0.073',\n",
       "    '',\n",
       "    ''],\n",
       "   94)),\n",
       " ('5739256',\n",
       "  (['1998',\n",
       "    '13983',\n",
       "    '1995',\n",
       "    '\"US\"',\n",
       "    '\"CA\"',\n",
       "    '70060',\n",
       "    '2',\n",
       "    '15',\n",
       "    '528',\n",
       "    '1',\n",
       "    '15',\n",
       "    '453',\n",
       "    '0',\n",
       "    '1',\n",
       "    '',\n",
       "    '0.8232',\n",
       "    '',\n",
       "    '15.1104',\n",
       "    '0.1124',\n",
       "    '0.1082',\n",
       "    '',\n",
       "    ''],\n",
       "   90)),\n",
       " ('5925042',\n",
       "  (['1999',\n",
       "    '14445',\n",
       "    '1997',\n",
       "    '\"US\"',\n",
       "    '\"CA\"',\n",
       "    '733846',\n",
       "    '2',\n",
       "    '',\n",
       "    '606',\n",
       "    '3',\n",
       "    '32',\n",
       "    '242',\n",
       "    '0',\n",
       "    '1',\n",
       "    '',\n",
       "    '0.7382',\n",
       "    '',\n",
       "    '8.3471',\n",
       "    '0',\n",
       "    '0',\n",
       "    '',\n",
       "    ''],\n",
       "   90)),\n",
       " ('5913855',\n",
       "  (['1999',\n",
       "    '14417',\n",
       "    '1997',\n",
       "    '\"US\"',\n",
       "    '\"CA\"',\n",
       "    '733846',\n",
       "    '2',\n",
       "    '',\n",
       "    '606',\n",
       "    '3',\n",
       "    '32',\n",
       "    '242',\n",
       "    '0',\n",
       "    '1',\n",
       "    '',\n",
       "    '0.7403',\n",
       "    '',\n",
       "    '8.3595',\n",
       "    '0',\n",
       "    '0',\n",
       "    '',\n",
       "    ''],\n",
       "   90))]"
      ]
     },
     "execution_count": 17,
     "metadata": {},
     "output_type": "execute_result"
    }
   ],
   "source": [
    "result.take(10)"
   ]
  },
  {
   "cell_type": "code",
   "execution_count": null,
   "metadata": {},
   "outputs": [],
   "source": []
  }
 ],
 "metadata": {
  "kernelspec": {
   "display_name": "Python 3 (ipykernel)",
   "language": "python",
   "name": "python3"
  },
  "language_info": {
   "codemirror_mode": {
    "name": "ipython",
    "version": 3
   },
   "file_extension": ".py",
   "mimetype": "text/x-python",
   "name": "python",
   "nbconvert_exporter": "python",
   "pygments_lexer": "ipython3",
   "version": "3.10.8"
  }
 },
 "nbformat": 4,
 "nbformat_minor": 4
}
